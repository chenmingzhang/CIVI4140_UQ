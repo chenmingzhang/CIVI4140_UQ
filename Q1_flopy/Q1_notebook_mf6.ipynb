{
 "cells": [
  {
   "cell_type": "markdown",
   "metadata": {},
   "source": [
    "\n",
    "\"\"\"\n",
    "Created on Tue Feb 22 14:42:56 2022\n",
    "@author: uqczhan2\n",
    "if hydraulic conductivity of the sandy layer\n",
    "is reduced, the large hydraulic conductivity in the oscillating boundary\n",
    "needs to be redued accordingLy_m \n",
    "\"\"\"\n",
    "\n",
    "This example uses modflow2005"
   ]
  },
  {
   "cell_type": "code",
   "execution_count": 1,
   "metadata": {},
   "outputs": [],
   "source": [
    "# -*- coding: utf-8 -*-\n",
    "import sys\n",
    "import glob\n",
    "import platform\n",
    "import shutil\n",
    "import numpy as np\n",
    "import matplotlib as mpl\n",
    "import matplotlib.pyplot as plt\n",
    "import matplotlib.pyplot as plt\n",
    "import flopy.utils.binaryfile as bf\n",
    "import os\n",
    "try:\n",
    "    import flopy\n",
    "except:\n",
    "    fpth = os.path.abspath(os.path.join('..', '..'))\n",
    "    sys.path.append(fpth)\n",
    "    import flopy\n",
    "    \n",
    "# a dot dict to group objects togeter\n",
    "# https://stackoverflow.com/a/23689767/1744434\n",
    "class dotdict(dict):\n",
    "    \"\"\"dot.notation access to dictionary attributes\"\"\"\n",
    "    __getattr__ = dict.get\n",
    "    __setattr__ = dict.__setitem__\n",
    "    __delattr__ = dict.__delitem__"
   ]
  },
  {
   "cell_type": "code",
   "execution_count": 2,
   "metadata": {},
   "outputs": [
    {
     "name": "stdout",
     "output_type": "stream",
     "text": [
      "3.9.10 (main, Mar 21 2022, 14:53:30) \n",
      "[GCC 4.8.5 20150623 (Red Hat 4.8.5-44)]\n",
      "numpy version: 1.22.3\n",
      "matplotlib version: 3.5.1\n",
      "flopy version: 3.3.6\n",
      "Model workspace is : /storage/macondo/uqczhan2/Projects/CIVI4140_UQ/Q1_flopy\n"
     ]
    }
   ],
   "source": [
    "print(sys.version)\n",
    "print('numpy version: {}'.format(np.__version__))\n",
    "print('matplotlib version: {}'.format(mpl.__version__))\n",
    "#print('pandas version: {}'.format(pd.__version__))\n",
    "print('flopy version: {}'.format(flopy.__version__))\n",
    "print('Model workspace is : {}'.format(os.getcwd()))\n"
   ]
  },
  {
   "cell_type": "code",
   "execution_count": 3,
   "metadata": {},
   "outputs": [],
   "source": [
    "params= {\n",
    "    'caseid': 'ah', 'kh_sand_mPday': 2.0 , 'nlay': 1,'sy': 0.03, 'strt_m': -6, 'kz_clay_mPday':  0.000847*2 , 'zbot_m': -10.\n",
    "    }"
   ]
  },
  {
   "cell_type": "code",
   "execution_count": 4,
   "metadata": {},
   "outputs": [],
   "source": [
    "Lx_m   = 1000.    # from plot, y is plotted from left to right\n",
    "Ly_m   = 10.     # from plot, y is plotted upward\n",
    "ztop_m = 0.    # top elevation of z axis (gravity)\n",
    "zbot_m = -20.  # bottom elevation of z axis (gravity)\n",
    "nlay = 10    # number of layers (gravity)\n",
    "nrow = 1     # number of rows\n",
    "ncol = 10\n",
    "delr_m = Lx_m / ncol\n",
    "delc_m = Ly_m / nrow\n",
    "delv_m = (ztop_m - zbot_m) / nlay             # layer thickness\n",
    "botm_list_m = np.linspace(ztop_m, zbot_m, nlay + 1)  # layer elevation array\n",
    "kh_mPday=20.0\n",
    "kh_lrc_list = np.ones((nlay, nrow, ncol), dtype=np.int32) * kh_mPday #*30.   \n",
    "# making hydraulic conductivity array  [lay_row_column]\n",
    "kh_lrc_list[:,:,0]= 100.     # first column has a very high hydraulic conductivity\n",
    "vka_lrc_list = kh_lrc_list\n",
    "sy = 0.25    # specific yield, equivalent to effective porosity\n",
    "ss = 1.e-4   #  specific storitivity \n",
    "laytyp = np.ones(nlay)   # unconfined = 1 "
   ]
  },
  {
   "cell_type": "code",
   "execution_count": 5,
   "metadata": {},
   "outputs": [],
   "source": [
    "# interesting to see that the it is better to be converged, if the head is above zero \n",
    "strt_m = -15. * np.ones((nlay, nrow, ncol), dtype=np.float32)   # initial hydraulic head\n",
    "nper   = 3                  # number of stress periods\n",
    "nstp = 200  # 100 as default\n",
    "perlen= 100\n",
    "perlen_list = [perlen, perlen, perlen]    # length of stress periods  days \n",
    "nstp_list   = [nstp, nstp, nstp]    # number of steps per stress periods\n",
    "steady = [False, False, False]   # if the results needs to be in steady state"
   ]
  },
  {
   "cell_type": "code",
   "execution_count": 6,
   "metadata": {},
   "outputs": [],
   "source": [
    "modelname = 'tutorial2'\n",
    "# mf = flopy.modflow.Modflow(modelname, exe_name='mf2005')\n",
    "# dis = flopy.modflow.ModflowDis(mf, \n",
    "#                                nlay, \n",
    "#                                nrow, \n",
    "#                                ncol, \n",
    "#                                delr=delr_m, \n",
    "#                                delc=delc_m,\n",
    "#                                top=ztop_m, botm=botm_list_m[1:],\n",
    "#                                nper=nper, perlen=perlen, nstp=nstp_list, steady=steady,\n",
    "#                                itmuni=4)   #itmuni 4 means time unit is days\n",
    "\n",
    "tsmult_ay_day = np.ones(nper) + perlen # length of stress periods  days \n",
    "nstp_ay       = np.ones(nper,dtype=int) + nstp\n",
    "tsmult        = np.ones(nper)\n",
    "bool_steady_state_stress_period_ay = np.zeros(nper,dtype=bool)\n",
    "dis_perioddata_ay = []\n",
    "for i in np.arange(nper):\n",
    "    dis_perioddata_ay.append([tsmult_ay_day[i],nstp_ay[i],tsmult[i]])\n",
    "ws = os.path.abspath('./Model/')\n",
    "sim = flopy.mf6.MFSimulation(sim_name=modelname, \n",
    "                             version='mf6',\n",
    "                             sim_ws=ws)\n",
    "tdis = flopy.mf6.ModflowTdis(sim, \n",
    "                             time_units='DAYS',\n",
    "                             nper=nper, \n",
    "                             perioddata=dis_perioddata_ay\n",
    "                            )\n",
    "#bas = flopy.modflow.ModflowBas(mf, ibound=ibound, strt=strt)\n",
    "# dis\n",
    "fModName = 'FlowModel'\n",
    "gwf = flopy.mf6.ModflowGwf(sim, \n",
    "                           modelname  =  fModName, \n",
    "                           newtonoptions  = True)\n"
   ]
  },
  {
   "cell_type": "code",
   "execution_count": 7,
   "metadata": {},
   "outputs": [],
   "source": [
    "# def get_lrc_from_coordinates(x,y,z,dis=dis) :\n",
    "#     \"\"\"\n",
    "#     function to get the lrc of the coordinates. \n",
    "#     \"\"\"\n",
    "#     [row,column]= dis.get_rc_from_node_coordinates(x,y)\n",
    "#     layer = dis.get_layer(row,column,z)\n",
    "#     return (layer, row , column)\n",
    "\n",
    "point_chd = dotdict({'x':1,'y':5,'z':-20})\n",
    "# (point_chd.l,point_chd.r,point_chd.c ) = get_lrc_from_coordinates(\n",
    "#     point_chd['x'],\n",
    "#     point_chd['y'],\n",
    "#     point_chd['z'])\n",
    "# point_chd.r , point_chd.c   = gwf.modelgrid.intersect(\n",
    "#     point_chd.x, \n",
    "#     point_chd.y, \n",
    "#     point_chd.z,\n",
    "#     #local=True\n",
    "#     )\n",
    "# still, we have yet got good results on this.\n",
    "point_chd.l = nlay - 1 \n",
    "point_chd.r = 0 \n",
    "point_chd.c = 0 \n",
    "point_chd.head_stressperiod_ay_m = [-1.1, -10, -0.1]\n",
    "#gwf.modelgrid.get\n",
    "# a = gwf.modelgrid.intersect(\n",
    "#     point_chd.x, \n",
    "#     point_chd.y, \n",
    "#     point_chd.z, \n",
    "#     #local=True\n",
    "#     )\n",
    "# x = point_chd.x\n",
    "# y = point_chd.y\n",
    "# z = point_chd.z\n",
    "\n",
    "#ibound = np.zeros((nlay, nrow, ncol), dtype=np.int32) + 3    # [lay_row_column] active cell has ibound of 3\n",
    "# lay_id_chd = nlay-1  # the cell at bottom left will be prescribed with chd package.  \n",
    "# row_id_chd = 0\n",
    "# col_id_chd = 0\n",
    "idomain_chd = 1  # the cell prescibed with chd package are masked with ibound of 1\n",
    "# # why 3-D here?? because the model is 3-d, with one row\n",
    "#ibound[point_chd['l'],point_chd['r'],point_chd['c']] = ibound_chd   "
   ]
  },
  {
   "cell_type": "code",
   "execution_count": 8,
   "metadata": {},
   "outputs": [],
   "source": [
    "#  ims package\n",
    "nouter, ninner = 700, 300\n",
    "hclose, rclose, relax = 1e-8, 1e-6, 0.97   # convergene criteria\n",
    "imsgwf = flopy.mf6.ModflowIms(sim, print_option='ALL',\n",
    "                                  outer_dvclose=hclose,\n",
    "                                  outer_maximum=nouter,\n",
    "                                  under_relaxation='NONE',\n",
    "                                  inner_maximum=ninner,\n",
    "                                  inner_dvclose=hclose, \n",
    "                                  rcloserecord=rclose,\n",
    "                                  linear_acceleration='BICGSTAB',\n",
    "                                  scaling_method='NONE',\n",
    "                                  reordering_method='NONE',\n",
    "                                  relaxation_factor=relax,\n",
    "                                  filename='{}.ims'.format(fModName))"
   ]
  },
  {
   "cell_type": "code",
   "execution_count": 9,
   "metadata": {},
   "outputs": [],
   "source": [
    "idomain_lrc_ay = np.full((nlay, nrow, ncol), 3) # similar to idomain where 0 means inactive cell, 1 means active cell\n",
    "idomain_lrc_ay[point_chd.l][point_chd.r][point_chd.c] = idomain_chd\n",
    "dis = flopy.mf6.ModflowGwfdis(gwf, \n",
    "                              nlay = nlay, \n",
    "                              nrow = nrow, \n",
    "                              ncol = ncol,\n",
    "                              delr = delr_m, \n",
    "                              delc = delc_m,\n",
    "                              top  = ztop_m, \n",
    "                              botm = botm_list_m[1:], \n",
    "                              idomain = idomain_lrc_ay   # temperorily presscribed\n",
    "                              )"
   ]
  },
  {
   "cell_type": "code",
   "execution_count": 10,
   "metadata": {},
   "outputs": [],
   "source": [
    "# reserved for github questions\n",
    "#layer, row, column = gwf.modelgrid.intersect(x, y, z, local=True)\n",
    "#layer, row, column = gwf.modelgrid.intersect(x, y, z)\n",
    "#print (layer,row,column)\n",
    "#lrc = gwf.modelgrid.intersect(x, y, z)\n",
    "#print (lrc)"
   ]
  },
  {
   "cell_type": "code",
   "execution_count": 11,
   "metadata": {},
   "outputs": [],
   "source": [
    "# https://modflowpy.github.io/flopydoc/mflpf.html\n",
    "head_dry_m=1e-30\n",
    "# wetfct (float) – is a factor that is included in the\n",
    "#calculation of the head that is initially established at\n",
    "#a cell when it is converted from dry to wet. (default is 0.1).\n",
    "wetfct =0.1 #0.05\n",
    "\n",
    "# iwetit (int) – is the iteration interval for attempting to wet cells.\n",
    "# Wetting is attempted every IWETIT iteration. If using the PCG solver (Hill, 1990), \n",
    "# his applies to outer iterations, \n",
    "# not inner iterations. If IWETIT less than or equal to 0, it is changed to 1. (default is 1).\n",
    "iwetit = 3\n",
    "\n",
    "# laywet (int or array of ints (nlay)) – contains a flag for each layer that indicates \n",
    "# if wetting is active. 0 wetting is inactive not 0 wetting is active (default is 0).\n",
    "laywet = 1 \n",
    "\n",
    "# wetdry (float or array of floats (nlay, nrow, ncol)) – is a combination of the wetting \n",
    "# threshold and a flag to indicate which neighboring cells can cause a cell to become wet. \n",
    "# (default is -0.01).\n",
    "wetdry = -0.01 #-1\n",
    "\n",
    "# lpf = flopy.modflow.ModflowLpf(mf, \n",
    "#                                hk  = hk, \n",
    "#                                vka = vka, \n",
    "#                                sy  = sy, \n",
    "#                                ss  = ss, \n",
    "#                                laytyp = laytyp, \n",
    "#                                ipakcb = 53,\n",
    "#                                hdry   = head_dry_m,\n",
    "#                                wetfct = wetfct,\n",
    "#                                iwetit = iwetit,\n",
    "#                                laywet = laywet,\n",
    "#                                wetdry = wetdry)\n",
    "# pcg = flopy.modflow.ModflowPcg(mf)\n",
    "\n",
    "\n",
    "# #k33 ([double]) –\n",
    "#k33 (double) is the hydraulic conductivity of the third ellipsoid axis (or the ratio of K33/K if the\n",
    "# K33OVERK option is specified); for an unrotated case, this is the vertical hydraulic conductivity.\n",
    "# When anisotropy is applied, K33 corresponds to the K33 tensor component. All included cells (IDOMAIN > 0) must have a K33 value greater than zero.\n",
    "# icelltype (integer) flag for each cell that specifies how saturated thickness is treated. 0 means saturated thickness is held constant; \n",
    "#:math:`>`0 means saturated thickness varies with computed head when head is below the cell top; \n",
    "#:math:`<`0 means saturated thickness varies with computed head unless the THICKSTRT option is in effect. \n",
    "# When THICKSTRT is in effect, a negative value of icelltype indicates that saturated thickness will be computed as STRT-BOT and held constant.\n",
    "# k22 is equal to k by default\n",
    "npf = flopy.mf6.ModflowGwfnpf(gwf,\n",
    "                              xt3doptions = False,\n",
    "                              save_flows = True,\n",
    "                              save_specific_discharge = True,\n",
    "                              icelltype = 1,   # meaning that transmissivity changes with heads\n",
    "                              k   = kh_lrc_list, \n",
    "                              k33 = vka_lrc_list)\n",
    "# iconvert (integer) is a flag for each cell that specifies \n",
    "# whether or not a cell is convertible for the storage \n",
    "# calculation. 0 indicates confined storage is used. \n",
    "# :math:`>`0 indicates confined storage is used when head is \n",
    "# above cell top and a mixed formulation of unconfined and \n",
    "# confined storage is used when head is below cell top.\n",
    "sto = flopy.mf6.ModflowGwfsto(gwf, \n",
    "                              sy = sy, \n",
    "                              ss = ss, \n",
    "                              iconvert = 1\n",
    "                              )\n",
    "# # https://modflowpy.github.io/flopydoc/mflpf.html\n",
    "ic = flopy.mf6.ModflowGwfic(gwf, \n",
    "                            strt = strt_m)"
   ]
  },
  {
   "cell_type": "code",
   "execution_count": 12,
   "metadata": {},
   "outputs": [
    {
     "data": {
      "text/plain": [
       "Text(0.5, 1.0, 'idomain values')"
      ]
     },
     "execution_count": 12,
     "metadata": {},
     "output_type": "execute_result"
    },
    {
     "data": {
      "image/png": "[encoded data removed]",
      "text/plain": [
       "<Figure size 720x288 with 2 Axes>"
      ]
     },
     "metadata": {
      "needs_background": "light"
     },
     "output_type": "display_data"
    }
   ],
   "source": [
    "# plot idomain values at yz section\n",
    "\n",
    "fig = plt.figure(figsize=(10, 4))\n",
    "ax  = fig.add_subplot(1, 1, 1)\n",
    "modeLx_msect = flopy.plot.PlotCrossSection(model=gwf, line={'Row': 0})\n",
    "arr = modeLx_msect.plot_array(idomain_lrc_ay)\n",
    "modeLx_msect.plot_grid()\n",
    "plt.colorbar(arr, shrink=0.5, ax=ax)\n",
    "ax.set_ylabel(\"Y (m)\")\n",
    "ax.set_xlabel(\"Z (m)\")\n",
    "ax.set_title(\"idomain values\")\n",
    "#ax.legend()"
   ]
  },
  {
   "cell_type": "code",
   "execution_count": 13,
   "metadata": {},
   "outputs": [],
   "source": [
    "# constant head package\n",
    "\n",
    "\n",
    "# boundary_constant_head_m = strt_m\n",
    "# for i in list(set(adline_chd.gridgen_intersect.nodenumber)):\n",
    "#     coord= gwf.modelgrid.get_lrc(i)\n",
    "#     chd_spd.append(  [ (0 , coord[0][1], coord[0][2]) , \n",
    "#                       boundary_constant_head_m  ] )\n",
    "\n",
    "chd_spd_dict = {}\n",
    "for per in np.arange(nper):\n",
    "       chd_spd = []\n",
    "       chd_spd.append(  [ (point_chd.l , point_chd.r, point_chd.c) , \n",
    "                      point_chd.head_stressperiod_ay_m[per]  ] )\n",
    "       chd_spd_dict[per] = chd_spd\n",
    "    \n",
    "    \n",
    "chd = flopy.mf6.ModflowGwfchd(\n",
    "    gwf,\n",
    "    stress_period_data=chd_spd_dict,\n",
    ")\n",
    "    \n",
    "# ibound_chd_mask = np.ma.masked_equal(ibound,ibound_chd)\n",
    "# chd_node_index = np.where(ibound_chd_mask.mask)\n",
    "# stress_period_data = {}\n",
    "# bound_sp0 = []\n",
    "# for i in np.arange(np.sum(ibound_chd_mask.mask)):\n",
    "#    bound_sp0.append([chd_node_index[0][i], chd_node_index[1][i], chd_node_index[2][i] , -1 , -1]  )\n",
    "# bound_sp1=[]\n",
    "# for i in np.arange(np.sum(ibound_chd_mask.mask)):\n",
    "#    bound_sp1.append([chd_node_index[0][i],chd_node_index[1][i],chd_node_index[2][i],-10,-10]  )\n",
    "# bound_sp2=[]\n",
    "# for i in np.arange(np.sum(ibound_chd_mask.mask)):\n",
    "#    bound_sp2.append([chd_node_index[0][i],chd_node_index[1][i],chd_node_index[2][i],-0.1,-0.1]  )\n",
    "\n",
    "# stress_period_data={0:bound_sp0,1:bound_sp1,2:bound_sp2}\n",
    "\n",
    "# chd=flopy.modflow.mfchd.ModflowChd(model=mf,\n",
    "#                                    stress_period_data=stress_period_data)"
   ]
  },
  {
   "cell_type": "code",
   "execution_count": 14,
   "metadata": {},
   "outputs": [],
   "source": [
    "oc = flopy.mf6.ModflowGwfoc(gwf,\n",
    "                   budget_filerecord ='{}.cbc'.format(fModName),\n",
    "                   head_filerecord   ='{}.hds'.format(fModName),\n",
    "                   headprintrecord   =[\n",
    "                                ('COLUMNS', 10, 'WIDTH', 15,\n",
    "                                 'DIGITS', 6, 'GENERAL')],\n",
    "                   saverecord=[('HEAD', 'ALL'),\n",
    "                               ('BUDGET', 'ALL')],\n",
    "                   printrecord=[('HEAD', 'LAST'),\n",
    "                                ('BUDGET', 'LAST')])\n",
    "# stress_period_data = {}\n",
    "# for kper in range(nper):\n",
    "#     for kstp in range(nstp_list[kper]):\n",
    "#         if np.mod(kstp,2)==0:\n",
    "#             stress_period_data[(kper, kstp)] = ['save head',\n",
    "#                                                 'save drawdown',\n",
    "#                                                 'save budget',\n",
    "#                                                 'print head',\n",
    "#                                                 'print budget']\n",
    "            \n",
    "# oc = flopy.modflow.ModflowOc(mf, stress_period_data=stress_period_data,compact=True)"
   ]
  },
  {
   "cell_type": "code",
   "execution_count": 15,
   "metadata": {},
   "outputs": [
    {
     "name": "stdout",
     "output_type": "stream",
     "text": [
      "writing simulation...\n",
      "  writing simulation name file...\n",
      "  writing simulation tdis package...\n",
      "  writing ims package ims_-1...\n",
      "  writing model FlowModel...\n",
      "    writing model name file...\n",
      "    writing package dis...\n",
      "    writing package npf...\n",
      "    writing package sto...\n",
      "    writing package ic...\n",
      "    writing package chd_0...\n",
      "INFORMATION: maxbound in ('gwf6', 'chd', 'dimensions') changed to 1 based on size of stress_period_data\n",
      "    writing package oc...\n"
     ]
    }
   ],
   "source": [
    "sim.write_simulation(silent=False)"
   ]
  },
  {
   "cell_type": "markdown",
   "metadata": {},
   "source": [
    "#### Run the model"
   ]
  },
  {
   "cell_type": "code",
   "execution_count": 18,
   "metadata": {},
   "outputs": [
    {
     "name": "stdout",
     "output_type": "stream",
     "text": [
      "/storage/macondo/uqczhan2/Projects/CIVI4140_UQ/Q1_flopy/Model\n",
      "mf6.exe\n",
      "/storage/macondo/uqczhan2/bin/mf6.exe\n",
      "FloPy is using the following executable to run the model: /storage/macondo/uqczhan2/bin/mf6.exe\n",
      "mf6.exe: error while loading shared libraries: libgfortran.so.5: cannot open shared object file: No such file or directory\n"
     ]
    },
    {
     "ename": "Exception",
     "evalue": "MODFLOW did not terminate normalLy_m.",
     "output_type": "error",
     "traceback": [
      "\u001b[0;31m---------------------------------------------------------------------------\u001b[0m",
      "\u001b[0;31mException\u001b[0m                                 Traceback (most recent call last)",
      "Input \u001b[0;32mIn [18]\u001b[0m, in \u001b[0;36m<cell line: 9>\u001b[0;34m()\u001b[0m\n\u001b[1;32m      8\u001b[0m success,mfoutput \u001b[38;5;241m=\u001b[39m sim\u001b[38;5;241m.\u001b[39mrun_simulation(silent\u001b[38;5;241m=\u001b[39m\u001b[38;5;28;01mFalse\u001b[39;00m, pause\u001b[38;5;241m=\u001b[39m\u001b[38;5;28;01mFalse\u001b[39;00m,report\u001b[38;5;241m=\u001b[39m\u001b[38;5;28;01mTrue\u001b[39;00m) \u001b[38;5;66;03m#mfoutput = mf.run_model(silent=True, pause=False, report=True)\u001b[39;00m\n\u001b[1;32m      9\u001b[0m \u001b[38;5;28;01mif\u001b[39;00m \u001b[38;5;129;01mnot\u001b[39;00m success:\n\u001b[0;32m---> 10\u001b[0m         \u001b[38;5;28;01mraise\u001b[39;00m \u001b[38;5;167;01mException\u001b[39;00m(\u001b[38;5;124m'\u001b[39m\u001b[38;5;124mMODFLOW did not terminate normalLy_m.\u001b[39m\u001b[38;5;124m'\u001b[39m)\n",
      "\u001b[0;31mException\u001b[0m: MODFLOW did not terminate normalLy_m."
     ]
    }
   ],
   "source": [
    "# success, mfoutput = mf.run_model(silent=True, pause=False, report=True)\n",
    "# if not success:\n",
    "#         raise Exception('MODFLOW did not terminate normalLy_m.')\n",
    "try:\n",
    "    os.remove(os.path.join(model_ws, \"{0}.hds\".format(modelname)))\n",
    "except:\n",
    "    pass\n",
    "success,mfoutput = sim.run_simulation(silent=False, pause=False,report=True) #mfoutput = mf.run_model(silent=True, pause=False, report=True)\n",
    "if not success:\n",
    "        raise Exception('MODFLOW did not terminate normalLy_m.')"
   ]
  },
  {
   "cell_type": "code",
   "execution_count": null,
   "metadata": {},
   "outputs": [],
   "source": [
    "headobj = bf.HeadFile(modelname+'.hds')\n",
    "times_headobj = headobj.get_times()\n",
    "cbbobj = bf.CellBudgetFile(modelname+'.cbc')\n",
    "times_cbbobj = cbbobj.get_times()\n",
    "# beginning of the first stress period\n",
    "times_output_list_day = np.array([98, 100.0, 150,198,200,250,298])  + perlen /  float(nstp)\n",
    "\n",
    "print(times_cbbobj)"
   ]
  },
  {
   "cell_type": "code",
   "execution_count": null,
   "metadata": {},
   "outputs": [],
   "source": [
    "print(times_headobj)"
   ]
  },
  {
   "cell_type": "code",
   "execution_count": null,
   "metadata": {},
   "outputs": [],
   "source": [
    "tsList = headobj.get_kstpkper()\n",
    "head_array_timeid_lrc_m = np.empty([len(times_cbbobj)],object)\n",
    "for i,j in enumerate(times_cbbobj):\n",
    "    #print(i,j)\n",
    "    head_array_timeid_lrc_m[i]=  headobj.get_data(totim=j)"
   ]
  },
  {
   "cell_type": "code",
   "execution_count": null,
   "metadata": {},
   "outputs": [],
   "source": [
    "print(tsList)"
   ]
  },
  {
   "cell_type": "code",
   "execution_count": null,
   "metadata": {},
   "outputs": [],
   "source": [
    "np.set_printoptions(suppress=False,precision=2)  #organise the matrix output better"
   ]
  },
  {
   "cell_type": "code",
   "execution_count": null,
   "metadata": {},
   "outputs": [],
   "source": [
    "def plot_head_distribution_watertable(output_time_index = 1):\n",
    "    fig = plt.figure(figsize=(8, 3))\n",
    "    ax  = fig.add_subplot(1, 1, 1)\n",
    "    t   = ax.set_title('Head distribution at  day %i' %(times_output_list_day[output_time_index]))\n",
    "    head = headobj.get_data(totim=times_output_list_day[output_time_index])\n",
    "    modeLx_msect = flopy.plot.PlotCrossSection(model=mf, line={'Row': 0})\n",
    "    arr = modeLx_msect.plot_array(head,masked_values= [head_dry_m])\n",
    "    grd = modeLx_msect.plot_grid()\n",
    "    ax.plot(dis.get_node_coordinates()[1] , head[-1,0,:], linewidth=5.0,)\n",
    "    plt.colorbar(arr, shrink=1, ax=ax)\n",
    "    ax.set_xlabel('X (m)')\n",
    "    ax.set_ylabel('Z (m)')\n",
    "    times = cbbobj.get_times()\n",
    "    qx = cbbobj.get_data(text=\"flow right face\", totim=times[output_time_index])[0]\n",
    "    qy = np.zeros((nlay, nrow, ncol), dtype=float)\n",
    "    qz = cbbobj.get_data(text=\"flow lower face\", totim=times[output_time_index])[0]\n",
    "    modeLx_msect.plot_vector(qx, qy, -qz, color=\"white\", kstep=1, hstep=1)"
   ]
  },
  {
   "cell_type": "markdown",
   "metadata": {},
   "source": [
    "Note dry cells are given as non-colored cells"
   ]
  },
  {
   "cell_type": "code",
   "execution_count": null,
   "metadata": {},
   "outputs": [],
   "source": [
    "plot_head_distribution_watertable(output_time_index = 0)"
   ]
  },
  {
   "cell_type": "code",
   "execution_count": null,
   "metadata": {},
   "outputs": [],
   "source": [
    "plot_head_distribution_watertable(output_time_index = 1)"
   ]
  },
  {
   "cell_type": "code",
   "execution_count": null,
   "metadata": {},
   "outputs": [],
   "source": [
    "plot_head_distribution_watertable(output_time_index = 2)"
   ]
  },
  {
   "cell_type": "code",
   "execution_count": null,
   "metadata": {},
   "outputs": [],
   "source": [
    "plot_head_distribution_watertable(output_time_index = 3)"
   ]
  },
  {
   "cell_type": "code",
   "execution_count": null,
   "metadata": {},
   "outputs": [],
   "source": [
    "plot_head_distribution_watertable(output_time_index = 4)"
   ]
  },
  {
   "cell_type": "code",
   "execution_count": null,
   "metadata": {},
   "outputs": [],
   "source": [
    "plot_head_distribution_watertable(output_time_index = 5)"
   ]
  },
  {
   "cell_type": "code",
   "execution_count": null,
   "metadata": {},
   "outputs": [],
   "source": [
    "plot_head_distribution_watertable(output_time_index = 6)"
   ]
  },
  {
   "cell_type": "code",
   "execution_count": null,
   "metadata": {},
   "outputs": [],
   "source": [
    "head_array_301_m =np.array([i[3,0,1] for i in head_array_timeid_lrc_m[:]])\n",
    "print(head_array_301_m)"
   ]
  },
  {
   "cell_type": "code",
   "execution_count": null,
   "metadata": {},
   "outputs": [],
   "source": [
    "# find the lrc of some key point and extrat the head at the point over time.\n",
    "\n",
    "point_1 = {'x':500,'y':5,'z':-15}\n",
    "(point_1['l'],point_1['r'],point_1['c'] )= get_lrc_from_coordinates(\n",
    "    point_1['x'],\n",
    "    point_1['y'],\n",
    "    point_1['z'])\n",
    "point_1['head_time_ay']=np.array(\n",
    "    [ i[point_1['l'],point_1['r'],point_1['c']] for i in head_array_timeid_lrc_m ])\n",
    "point_1 ['label']= 'x={:1.1e}'.format(point_1['x']) +  ', z={:1.1e}'.format(point_1['z'])\n",
    "\n",
    "\n",
    "point_chd['head_time_ay']=np.array(\n",
    "    [ i[point_chd['l'],point_chd['r'],point_chd['c']] for i in head_array_timeid_lrc_m ])\n",
    "point_chd ['label']= 'x={:1.1e}'.format(point_chd['x']) +  ', z={:1.1e}'.format(point_chd['z'])\n",
    "\n",
    "point_2 = {'x':1000,'y':5,'z':-15}\n",
    "(point_2['l'],point_2['r'],point_2['c'] )= get_lrc_from_coordinates(\n",
    "    point_2['x'],\n",
    "    point_2['y'],\n",
    "    point_2['z'])\n",
    "point_2['head_time_ay']=np.array(\n",
    "    [ i[point_2['l'],point_2['r'],point_2['c']] for i in head_array_timeid_lrc_m ])\n",
    "point_2 ['label']= 'x={:1.1e}'.format(point_2['x']) +  ', z={:1.1e}'.format(point_2['z'])\n",
    "\n",
    "point_3 = {'x':200,'y':5,'z':-5}\n",
    "(point_3['l'],point_3['r'],point_3['c'] )= get_lrc_from_coordinates(\n",
    "    point_3['x'],\n",
    "    point_3['y'],\n",
    "    point_3['z'])\n",
    "point_3['head_time_ay']=np.array(\n",
    "    [ i[point_3['l'],point_3['r'],point_3['c']] for i in head_array_timeid_lrc_m ])\n",
    "point_3 ['label']= 'x={:1.1e}'.format(point_3['x']) +  ', z={:1.1e}'.format(point_3['z'])\n",
    "point_3['head_time_ay'][point_3['head_time_ay'] == head_dry_m]= np.nan"
   ]
  },
  {
   "cell_type": "code",
   "execution_count": null,
   "metadata": {},
   "outputs": [],
   "source": [
    "fig, axes = plt.subplots(\n",
    "    ncols=2,\n",
    "    nrows=1,\n",
    "    sharex=True,\n",
    "    figsize=(8.3, 4.3),\n",
    "    constrained_layout=True,\n",
    ")\n",
    "\n",
    "title_str ='kh = {:1.1e}'.format(kh_mPday) + '_ nlay = {:1.1e}'.format(nlay) \\\n",
    "    +'_ sy = {:1.1e}'.format(sy) + '_ wetfct = {:1.1e}'.format(wetfct) \\\n",
    "    + '_ nstp = {:1.1e}'.format(nstp)+ '_ wetdry = {:1.1e}'.format(wetdry)\n",
    "    \n",
    "fig.suptitle(title_str,fontsize=10)\n",
    "\n",
    "ax = axes[0]\n",
    "# ax.set_ylim(110, 130)\n",
    "\n",
    "ax.plot(\n",
    "    times_headobj,\n",
    "    point_chd['head_time_ay'],\n",
    "    lw=1.75,\n",
    "    ls=\"-\",\n",
    "    color=\"red\",\n",
    "    label=point_chd ['label'],\n",
    ")\n",
    "\n",
    "ax.plot(\n",
    "    times_headobj,\n",
    "    point_1['head_time_ay'],\n",
    "    lw=1.75,\n",
    "    ls=\"-\",\n",
    "    color=\"green\",\n",
    "    label=point_1 ['label'],\n",
    ")\n",
    "\n",
    "ax.plot(\n",
    "    times_headobj,\n",
    "    point_2['head_time_ay'],\n",
    "    lw=1.75,\n",
    "    ls=\"-\",\n",
    "    color=\"blue\",\n",
    "    label=point_2 ['label'],\n",
    ")\n",
    "\n",
    "ax.plot(\n",
    "    times_headobj,\n",
    "    point_3['head_time_ay'],\n",
    "    lw=1.75,\n",
    "    ls=\"-\",\n",
    "    color=\"cyan\",\n",
    "    label=point_3 ['label'],\n",
    ")\n",
    "\n",
    "ax.legend(loc=\"lower right\",fontsize=10)\n",
    "ax.set_title(\"Head over time at fixed points\")    \n",
    "ax.set_ylabel(\"Head in Metres\")\n",
    "ax.set_xlabel(\"Time (days)\")\n",
    "ax.grid()\n",
    "axes[0].set_xlim([0, times_cbbobj[-1]])\n",
    "# fs.graph_legend(ax, loc=\"upper right\")\n",
    "# fs.heading(ax, idx=0)\n",
    "\n",
    "ax = axes[1]\n",
    "\n",
    "head_idx=0;head = headobj.get_data(totim=times_output_list_day[head_idx])\n",
    "ax.plot(dis.get_node_coordinates()[1] , \n",
    "        head[-1,0,:], \n",
    "        linewidth=2.0,\n",
    "        color='red',\n",
    "        label= \"day \" + str(times_output_list_day[head_idx]),\n",
    "       )\n",
    "head_idx=1;head = headobj.get_data(totim=times_output_list_day[head_idx])\n",
    "ax.plot(dis.get_node_coordinates()[1] , \n",
    "        head[-1,0,:], \n",
    "        linewidth=2.0,\n",
    "        color='green',\n",
    "        label= \"day \" + str(times_output_list_day[head_idx]),\n",
    "       )\n",
    "head_idx=2;head = headobj.get_data(totim=times_output_list_day[head_idx])\n",
    "ax.plot(dis.get_node_coordinates()[1] , \n",
    "        head[-1,0,:], \n",
    "        linewidth=2.0,\n",
    "        color='blue',\n",
    "        label= \"day \" + str(times_output_list_day[head_idx]),\n",
    "       )\n",
    "head_idx=3;head = headobj.get_data(totim=times_output_list_day[head_idx])\n",
    "ax.plot(dis.get_node_coordinates()[1] , \n",
    "        head[-1,0,:], \n",
    "        linewidth=2.0,\n",
    "        color='cyan',\n",
    "        label= \"day \" + str(times_output_list_day[head_idx]),\n",
    "       )\n",
    "head_idx=4;head = headobj.get_data(totim=times_output_list_day[head_idx])\n",
    "ax.plot(dis.get_node_coordinates()[1] , \n",
    "        head[-1,0,:], \n",
    "        linewidth=2.0,\n",
    "        color='brown',\n",
    "        label= \"day \" + str(times_output_list_day[head_idx]),\n",
    "       )\n",
    "head_idx=5;head = headobj.get_data(totim=times_output_list_day[head_idx])\n",
    "ax.plot(dis.get_node_coordinates()[1] , \n",
    "        head[-1,0,:], \n",
    "        linewidth=2.0,\n",
    "        color='black',\n",
    "        label= \"day \" + str(times_output_list_day[head_idx]),\n",
    "       )\n",
    "head_idx=6;head = headobj.get_data(totim=times_output_list_day[head_idx])\n",
    "pl=ax.plot(dis.get_node_coordinates()[1] , \n",
    "        head[-1,0,:], \n",
    "        linewidth=2.0,\n",
    "        color='gray',\n",
    "        label= \"day \" + str(times_output_list_day[head_idx]),\n",
    "       )\n",
    "ax.grid()\n",
    "ax.legend(loc=\"upper right\",fontsize=10)\n",
    "ax.set_title(\"Head at the bottom layer at specific points\")    \n",
    "ax.set_ylabel(\"Head in Metres\")\n",
    "ax.set_xlabel(\"X (m)\")\n",
    "#ax.set_xlim([0, Lx_m])\n",
    "#axes.axes.set_xlim([0, 300])\n",
    "axes[1].set_xlim([0, 1000])\n",
    "fname_save=title_str.replace(';', ' ').replace('+', '').replace('e-', 'ne') \\\n",
    "    .replace('=', '_').replace(' ', '')\n",
    "print(fname_save)\n",
    "plt.savefig(fname_save+'.png',dpi=300)"
   ]
  },
  {
   "cell_type": "code",
   "execution_count": null,
   "metadata": {},
   "outputs": [],
   "source": [
    "dis.get_lrc(5)\n"
   ]
  },
  {
   "cell_type": "code",
   "execution_count": null,
   "metadata": {},
   "outputs": [],
   "source": [
    "dis.get_node_coordinates()[2]"
   ]
  },
  {
   "cell_type": "code",
   "execution_count": null,
   "metadata": {},
   "outputs": [],
   "source": [
    "def get_lrc_from_coordinates(x,y,z,dis=dis) :\n",
    "    \"\"\"\n",
    "    function to get the lrc of the coordinates. \n",
    "    \"\"\"\n",
    "    [row,column]= dis.get_rc_from_node_coordinates(x,y)\n",
    "    layer = dis.get_layer(row,column,z)\n",
    "    return (layer, row , column)"
   ]
  },
  {
   "cell_type": "code",
   "execution_count": null,
   "metadata": {},
   "outputs": [],
   "source": [
    "dis.get_layer(0,4,-15)"
   ]
  }
 ],
 "metadata": {
  "kernelspec": {
   "display_name": "Python 3 (ipykernel)",
   "language": "python",
   "name": "python3"
  },
  "language_info": {
   "codemirror_mode": {
    "name": "ipython",
    "version": 3
   },
   "file_extension": ".py",
   "mimetype": "text/x-python",
   "name": "python",
   "nbconvert_exporter": "python",
   "pygments_lexer": "ipython3",
   "version": "3.9.10"
  }
 },
 "nbformat": 4,
 "nbformat_minor": 4
}
